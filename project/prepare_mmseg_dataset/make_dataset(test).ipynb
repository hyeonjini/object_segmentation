{
 "cells": [
  {
   "cell_type": "code",
   "execution_count": null,
   "id": "1ac731b9-45e4-4607-98b1-1f133b0c731d",
   "metadata": {},
   "outputs": [],
   "source": [
    "from dataset import BaseDataset\n",
    "import torch\n",
    "import os\n",
    "import cv2\n",
    "import numpy as np\n",
    "import pandas as pd\n",
    "from shutil import copyfile"
   ]
  },
  {
   "cell_type": "code",
   "execution_count": null,
   "id": "9de1bdb1-3629-4b74-aaba-d59df50a4e38",
   "metadata": {},
   "outputs": [],
   "source": [
    "def collate_fn(batch):\n",
    "    return tuple(zip(*batch))"
   ]
  },
  {
   "cell_type": "code",
   "execution_count": null,
   "id": "9dc422d7-11df-4842-94ab-dc70cad7706e",
   "metadata": {},
   "outputs": [],
   "source": [
    "target_image_folder = \"../input/data/mmseg/test/image/\"\n",
    "data_dir = \"../input/data\""
   ]
  },
  {
   "cell_type": "code",
   "execution_count": null,
   "id": "7ff8fa94-8c0b-4ac1-b357-a8e5f25a886d",
   "metadata": {},
   "outputs": [],
   "source": [
    "train_data = BaseDataset(data_dir=data_dir, ann_file=\"test.json\", train=False, transform=None)"
   ]
  },
  {
   "cell_type": "code",
   "execution_count": null,
   "id": "c71c653b-f17e-4647-9312-7f2238089d7a",
   "metadata": {},
   "outputs": [],
   "source": [
    "train_loader = torch.utils.data.DataLoader(\n",
    "    dataset=train_data,\n",
    "    batch_size = 1,\n",
    "    shuffle=False,\n",
    "    collate_fn = collate_fn\n",
    ")"
   ]
  },
  {
   "cell_type": "code",
   "execution_count": null,
   "id": "b333a7f8-0f5c-4b08-8563-71cd770fe111",
   "metadata": {},
   "outputs": [],
   "source": [
    "for img, infos in train_loader :\n",
    "    copyfile(os.path.join(data_dir, infos[0][\"file_name\"]), target_image_folder+\"{0:05d}.jpg\".format(infos[0]['id']))\n",
    "\n"
   ]
  },
  {
   "cell_type": "code",
   "execution_count": null,
   "id": "21fbd8d8-013d-4608-b675-202a4a076e93",
   "metadata": {},
   "outputs": [],
   "source": []
  }
 ],
 "metadata": {
  "kernelspec": {
   "display_name": "segmentation",
   "language": "python",
   "name": "segmentation"
  },
  "language_info": {
   "codemirror_mode": {
    "name": "ipython",
    "version": 3
   },
   "file_extension": ".py",
   "mimetype": "text/x-python",
   "name": "python",
   "nbconvert_exporter": "python",
   "pygments_lexer": "ipython3",
   "version": "3.7.11"
  }
 },
 "nbformat": 4,
 "nbformat_minor": 5
}
