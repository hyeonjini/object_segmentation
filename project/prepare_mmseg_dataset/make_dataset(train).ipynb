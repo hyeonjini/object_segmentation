{
 "cells": [
  {
   "cell_type": "code",
   "execution_count": 1,
   "id": "1ac731b9-45e4-4607-98b1-1f133b0c731d",
   "metadata": {},
   "outputs": [],
   "source": [
    "from dataset import BaseDataset\n",
    "import torch\n",
    "import os\n",
    "import cv2\n",
    "import numpy as np\n",
    "import pandas as pd\n",
    "from shutil import copyfile"
   ]
  },
  {
   "cell_type": "code",
   "execution_count": 2,
   "id": "9de1bdb1-3629-4b74-aaba-d59df50a4e38",
   "metadata": {},
   "outputs": [],
   "source": [
    "def collate_fn(batch):\n",
    "    return tuple(zip(*batch))"
   ]
  },
  {
   "cell_type": "code",
   "execution_count": 3,
   "id": "9dc422d7-11df-4842-94ab-dc70cad7706e",
   "metadata": {},
   "outputs": [],
   "source": [
    "target_image_folder = \"../input/data/mmseg/train/image/\"\n",
    "target_mask_folder = \"../input/data/mmseg/train/mask/\"\n",
    "data_dir = \"../input/data\""
   ]
  },
  {
   "cell_type": "code",
   "execution_count": 4,
   "id": "7ff8fa94-8c0b-4ac1-b357-a8e5f25a886d",
   "metadata": {},
   "outputs": [
    {
     "name": "stdout",
     "output_type": "stream",
     "text": [
      "loading annotations into memory...\n",
      "Done (t=4.73s)\n",
      "creating index...\n",
      "index created!\n"
     ]
    }
   ],
   "source": [
    "train_data = BaseDataset(data_dir=data_dir, ann_file=\"train_all.json\", train=True, transform=None)"
   ]
  },
  {
   "cell_type": "code",
   "execution_count": 5,
   "id": "c71c653b-f17e-4647-9312-7f2238089d7a",
   "metadata": {},
   "outputs": [],
   "source": [
    "train_loader = torch.utils.data.DataLoader(\n",
    "    dataset=train_data,\n",
    "    batch_size = 1,\n",
    "    shuffle=False,\n",
    "    collate_fn = collate_fn\n",
    ")"
   ]
  },
  {
   "cell_type": "code",
   "execution_count": 6,
   "id": "b333a7f8-0f5c-4b08-8563-71cd770fe111",
   "metadata": {},
   "outputs": [],
   "source": [
    "for idx, (img, mask, infos) in enumerate(train_loader):\n",
    "    cv2.imwrite(os.path.join(target_mask_folder, \"{0:05d}.png\".format(infos[0]['id'])), mask[0])\n",
    "    copyfile(os.path.join(data_dir, infos[0][\"file_name\"]), target_image_folder+\"{0:05d}.jpg\".format(infos[0]['id']))\n"
   ]
  },
  {
   "cell_type": "code",
   "execution_count": null,
   "id": "21fbd8d8-013d-4608-b675-202a4a076e93",
   "metadata": {},
   "outputs": [],
   "source": []
  }
 ],
 "metadata": {
  "kernelspec": {
   "display_name": "segmentation",
   "language": "python",
   "name": "segmentation"
  },
  "language_info": {
   "codemirror_mode": {
    "name": "ipython",
    "version": 3
   },
   "file_extension": ".py",
   "mimetype": "text/x-python",
   "name": "python",
   "nbconvert_exporter": "python",
   "pygments_lexer": "ipython3",
   "version": "3.7.11"
  }
 },
 "nbformat": 4,
 "nbformat_minor": 5
}
