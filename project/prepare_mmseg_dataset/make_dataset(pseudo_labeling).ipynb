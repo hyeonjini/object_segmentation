{
 "cells": [
  {
   "cell_type": "code",
   "execution_count": 1,
   "id": "1ac731b9-45e4-4607-98b1-1f133b0c731d",
   "metadata": {},
   "outputs": [],
   "source": [
    "from dataset import BaseDataset\n",
    "import torch\n",
    "import os\n",
    "import cv2\n",
    "import numpy as np\n",
    "import pandas as pd\n",
    "from shutil import copyfile\n",
    "import scipy.ndimage"
   ]
  },
  {
   "cell_type": "code",
   "execution_count": 2,
   "id": "9dc422d7-11df-4842-94ab-dc70cad7706e",
   "metadata": {},
   "outputs": [],
   "source": [
    "csv_file = \"./best3.csv\"\n",
    "data_dir = \"../input/data\"\n",
    "output_dir = \"../input/data/mmseg/train\"\n",
    "target_image_dir = os.path.join(output_dir, \"image\")\n",
    "target_mask_dir = os.path.join(output_dir, \"mask\")"
   ]
  },
  {
   "cell_type": "code",
   "execution_count": 3,
   "id": "c93bdcab-e259-4f63-a163-ce3bc3ea3d6b",
   "metadata": {},
   "outputs": [],
   "source": [
    "submission = pd.read_csv(csv_file, index_col=None)"
   ]
  },
  {
   "cell_type": "code",
   "execution_count": 4,
   "id": "93ef2272-499a-4db7-9c03-8639006e6d67",
   "metadata": {},
   "outputs": [],
   "source": [
    "image_ids = submission[\"image_id\"].values\n",
    "masks = submission[\"PredictionString\"].values"
   ]
  },
  {
   "cell_type": "code",
   "execution_count": 5,
   "id": "540d8ab2-f79d-4bdd-9aa0-ae39ed7e531f",
   "metadata": {},
   "outputs": [],
   "source": [
    "idx = 40000"
   ]
  },
  {
   "cell_type": "code",
   "execution_count": 6,
   "id": "b333a7f8-0f5c-4b08-8563-71cd770fe111",
   "metadata": {},
   "outputs": [],
   "source": [
    "for image_id, mask in zip(image_ids, masks):\n",
    "    \n",
    "    # image load\n",
    "    image = cv2.imread(os.path.join(data_dir, image_id))\n",
    "    image = cv2.cvtColor(image, cv2.COLOR_BGR2RGB)\n",
    "    \n",
    "    # mask load\n",
    "    mask = list(map(int, mask.split()))\n",
    "    mask = np.array(mask)\n",
    "    mask = np.reshape(mask, (-1, 256))\n",
    "    mask = scipy.ndimage.zoom(mask, 2, order=0)\n",
    "    \n",
    "    cv2.imwrite(os.path.join(target_mask_dir, \"{0:05d}.png\".format(idx)), mask)\n",
    "    copyfile(os.path.join(data_dir, image_id), os.path.join(target_image_dir, \"{0:05d}.jpg\".format(idx)))\n",
    "    \n",
    "    idx += 1"
   ]
  },
  {
   "cell_type": "code",
   "execution_count": null,
   "id": "21fbd8d8-013d-4608-b675-202a4a076e93",
   "metadata": {},
   "outputs": [],
   "source": []
  }
 ],
 "metadata": {
  "kernelspec": {
   "display_name": "segmentation",
   "language": "python",
   "name": "segmentation"
  },
  "language_info": {
   "codemirror_mode": {
    "name": "ipython",
    "version": 3
   },
   "file_extension": ".py",
   "mimetype": "text/x-python",
   "name": "python",
   "nbconvert_exporter": "python",
   "pygments_lexer": "ipython3",
   "version": "3.7.11"
  }
 },
 "nbformat": 4,
 "nbformat_minor": 5
}
