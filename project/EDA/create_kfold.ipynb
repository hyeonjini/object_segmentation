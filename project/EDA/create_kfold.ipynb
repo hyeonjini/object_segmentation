{
 "cells": [
  {
   "cell_type": "code",
   "execution_count": 1,
   "id": "a33a8278-aac7-4129-9d52-0822c0f9cf04",
   "metadata": {},
   "outputs": [],
   "source": [
    "import os\n",
    "import random\n",
    "import time\n",
    "import json\n",
    "import warnings \n",
    "warnings.filterwarnings('ignore')\n",
    "\n",
    "import cv2\n",
    "import numpy as np\n",
    "import pandas as pd\n",
    "\n",
    "from pycocotools.coco import COCO\n",
    "import matplotlib.pyplot as plt\n",
    "import seaborn as sns; sns.set()\n",
    "from matplotlib.patches import Patch\n",
    "import webcolors\n",
    "\n",
    "plt.rcParams['axes.grid'] = False"
   ]
  },
  {
   "cell_type": "code",
   "execution_count": 4,
   "id": "467d957e-b497-461a-8f0f-862886ce6003",
   "metadata": {},
   "outputs": [
    {
     "data": {
      "text/plain": [
       "dict_keys(['info', 'licenses', 'images', 'categories', 'annotations'])"
      ]
     },
     "execution_count": 4,
     "metadata": {},
     "output_type": "execute_result"
    }
   ],
   "source": [
    "dataset_path = '/opt/ml/segmentation/input/data'\n",
    "anns_file_path = dataset_path + '/' + 'train_all.json'\n",
    "\n",
    "with open(anns_file_path, \"r\") as f:\n",
    "    dataset = json.loads(f.read())\n",
    "\n",
    "dataset.keys()"
   ]
  },
  {
   "cell_type": "code",
   "execution_count": 8,
   "id": "975f338f-d7a1-4c09-9ee6-0686ecfb565a",
   "metadata": {},
   "outputs": [
    {
     "name": "stdout",
     "output_type": "stream",
     "text": [
      "number of categories:10\n",
      "number of annotations:26240\n",
      "number of images:3272\n"
     ]
    }
   ],
   "source": [
    "categories = dataset['categories']\n",
    "anns = dataset['annotations']\n",
    "imgs = dataset['images']\n",
    "\n",
    "nr_cats = len(categories)\n",
    "nr_anns = len(anns)\n",
    "nr_imgs = len(imgs)\n",
    "\n",
    "print(f'number of categories:{nr_cats}')\n",
    "print(f'number of annotations:{nr_anns}')\n",
    "print(f'number of images:{nr_imgs}')"
   ]
  },
  {
   "cell_type": "code",
   "execution_count": 10,
   "id": "fedabf26-70f7-4604-8807-a8c35210bd99",
   "metadata": {},
   "outputs": [
    {
     "name": "stdout",
     "output_type": "stream",
     "text": [
      "['General trash', 'Paper', 'Paper pack', 'Metal', 'Glass', 'Plastic', 'Styrofoam', 'Plastic bag', 'Battery', 'Clothing']\n"
     ]
    }
   ],
   "source": [
    "cat_names = []\n",
    "for category in categories:\n",
    "    cat_names.append(category['name'])\n",
    "print(cat_names)"
   ]
  },
  {
   "cell_type": "code",
   "execution_count": 15,
   "id": "39b9b337-9ac7-4e54-985f-511801e57201",
   "metadata": {},
   "outputs": [
    {
     "data": {
      "text/html": [
       "<div>\n",
       "<style scoped>\n",
       "    .dataframe tbody tr th:only-of-type {\n",
       "        vertical-align: middle;\n",
       "    }\n",
       "\n",
       "    .dataframe tbody tr th {\n",
       "        vertical-align: top;\n",
       "    }\n",
       "\n",
       "    .dataframe thead th {\n",
       "        text-align: right;\n",
       "    }\n",
       "</style>\n",
       "<table border=\"1\" class=\"dataframe\">\n",
       "  <thead>\n",
       "    <tr style=\"text-align: right;\">\n",
       "      <th></th>\n",
       "      <th>Categories</th>\n",
       "      <th>Number of annotations</th>\n",
       "    </tr>\n",
       "  </thead>\n",
       "  <tbody>\n",
       "    <tr>\n",
       "      <th>1</th>\n",
       "      <td>Paper</td>\n",
       "      <td>9311</td>\n",
       "    </tr>\n",
       "    <tr>\n",
       "      <th>7</th>\n",
       "      <td>Plastic bag</td>\n",
       "      <td>7643</td>\n",
       "    </tr>\n",
       "    <tr>\n",
       "      <th>5</th>\n",
       "      <td>Plastic</td>\n",
       "      <td>3090</td>\n",
       "    </tr>\n",
       "    <tr>\n",
       "      <th>0</th>\n",
       "      <td>General trash</td>\n",
       "      <td>2782</td>\n",
       "    </tr>\n",
       "    <tr>\n",
       "      <th>6</th>\n",
       "      <td>Styrofoam</td>\n",
       "      <td>1343</td>\n",
       "    </tr>\n",
       "    <tr>\n",
       "      <th>2</th>\n",
       "      <td>Paper pack</td>\n",
       "      <td>659</td>\n",
       "    </tr>\n",
       "    <tr>\n",
       "      <th>4</th>\n",
       "      <td>Glass</td>\n",
       "      <td>610</td>\n",
       "    </tr>\n",
       "    <tr>\n",
       "      <th>3</th>\n",
       "      <td>Metal</td>\n",
       "      <td>562</td>\n",
       "    </tr>\n",
       "    <tr>\n",
       "      <th>9</th>\n",
       "      <td>Clothing</td>\n",
       "      <td>177</td>\n",
       "    </tr>\n",
       "    <tr>\n",
       "      <th>8</th>\n",
       "      <td>Battery</td>\n",
       "      <td>63</td>\n",
       "    </tr>\n",
       "  </tbody>\n",
       "</table>\n",
       "</div>"
      ],
      "text/plain": [
       "      Categories  Number of annotations\n",
       "1          Paper                   9311\n",
       "7    Plastic bag                   7643\n",
       "5        Plastic                   3090\n",
       "0  General trash                   2782\n",
       "6      Styrofoam                   1343\n",
       "2     Paper pack                    659\n",
       "4          Glass                    610\n",
       "3          Metal                    562\n",
       "9       Clothing                    177\n",
       "8        Battery                     63"
      ]
     },
     "execution_count": 15,
     "metadata": {},
     "output_type": "execute_result"
    }
   ],
   "source": [
    "cat_histogram = np.zeros(nr_cats, dtype=int)\n",
    "for ann in anns:\n",
    "    cat_histogram[ann['category_id']-1]+=1\n",
    "\n",
    "df = pd.DataFrame({'Categories': cat_names, 'Number of annotations': cat_histogram})\n",
    "df = df.sort_values('Number of annotations', 0, False)\n",
    "df"
   ]
  },
  {
   "cell_type": "code",
   "execution_count": 22,
   "id": "381e40e5-2038-4721-a5c8-a7a3ab716ad9",
   "metadata": {},
   "outputs": [
    {
     "data": {
      "text/plain": [
       "Categories               Paper\n",
       "Number of annotations     9311\n",
       "Name: 1, dtype: object"
      ]
     },
     "execution_count": 22,
     "metadata": {},
     "output_type": "execute_result"
    }
   ],
   "source": [
    "df['Paper']."
   ]
  },
  {
   "cell_type": "code",
   "execution_count": 16,
   "id": "2668aa6e-1fe6-4274-a152-7b7e16d51ae7",
   "metadata": {},
   "outputs": [
    {
     "data": {
      "image/png": "[encoded data removed]",
      "text/plain": [
       "<Figure size 360x360 with 1 Axes>"
      ]
     },
     "metadata": {},
     "output_type": "display_data"
    }
   ],
   "source": [
    "f, ax = plt.subplots(figsize = (5,5))\n",
    "plt.title(\"category distribution of train_all set \")\n",
    "plot_1 = sns.barplot(x=\"Number of annotations\", y=\"Categories\", data=df, label=\"Total\", color=\"b\")"
   ]
  },
  {
   "cell_type": "code",
   "execution_count": 17,
   "id": "3e1c9644-dddc-4787-95eb-ebfa6ffb9e8a",
   "metadata": {},
   "outputs": [],
   "source": [
    "sorted_temp_df = df.sort_index()\n",
    "\n",
    "# background = 0 에 해당되는 label 추가 후 기존들을 모두 label + 1 로 설정\n",
    "sorted_df = pd.DataFrame([\"Backgroud\"], columns = [\"Categories\"])\n",
    "sorted_df = sorted_df.append(sorted_temp_df, ignore_index=True)"
   ]
  },
  {
   "cell_type": "code",
   "execution_count": 18,
   "id": "df372c3e-614b-4eb7-841d-04decc200237",
   "metadata": {},
   "outputs": [
    {
     "data": {
      "text/html": [
       "<div>\n",
       "<style scoped>\n",
       "    .dataframe tbody tr th:only-of-type {\n",
       "        vertical-align: middle;\n",
       "    }\n",
       "\n",
       "    .dataframe tbody tr th {\n",
       "        vertical-align: top;\n",
       "    }\n",
       "\n",
       "    .dataframe thead th {\n",
       "        text-align: right;\n",
       "    }\n",
       "</style>\n",
       "<table border=\"1\" class=\"dataframe\">\n",
       "  <thead>\n",
       "    <tr style=\"text-align: right;\">\n",
       "      <th></th>\n",
       "      <th>Categories</th>\n",
       "      <th>Number of annotations</th>\n",
       "    </tr>\n",
       "  </thead>\n",
       "  <tbody>\n",
       "    <tr>\n",
       "      <th>0</th>\n",
       "      <td>Backgroud</td>\n",
       "      <td>NaN</td>\n",
       "    </tr>\n",
       "    <tr>\n",
       "      <th>1</th>\n",
       "      <td>General trash</td>\n",
       "      <td>2782.0</td>\n",
       "    </tr>\n",
       "    <tr>\n",
       "      <th>2</th>\n",
       "      <td>Paper</td>\n",
       "      <td>9311.0</td>\n",
       "    </tr>\n",
       "    <tr>\n",
       "      <th>3</th>\n",
       "      <td>Paper pack</td>\n",
       "      <td>659.0</td>\n",
       "    </tr>\n",
       "    <tr>\n",
       "      <th>4</th>\n",
       "      <td>Metal</td>\n",
       "      <td>562.0</td>\n",
       "    </tr>\n",
       "    <tr>\n",
       "      <th>5</th>\n",
       "      <td>Glass</td>\n",
       "      <td>610.0</td>\n",
       "    </tr>\n",
       "    <tr>\n",
       "      <th>6</th>\n",
       "      <td>Plastic</td>\n",
       "      <td>3090.0</td>\n",
       "    </tr>\n",
       "    <tr>\n",
       "      <th>7</th>\n",
       "      <td>Styrofoam</td>\n",
       "      <td>1343.0</td>\n",
       "    </tr>\n",
       "    <tr>\n",
       "      <th>8</th>\n",
       "      <td>Plastic bag</td>\n",
       "      <td>7643.0</td>\n",
       "    </tr>\n",
       "    <tr>\n",
       "      <th>9</th>\n",
       "      <td>Battery</td>\n",
       "      <td>63.0</td>\n",
       "    </tr>\n",
       "    <tr>\n",
       "      <th>10</th>\n",
       "      <td>Clothing</td>\n",
       "      <td>177.0</td>\n",
       "    </tr>\n",
       "  </tbody>\n",
       "</table>\n",
       "</div>"
      ],
      "text/plain": [
       "       Categories  Number of annotations\n",
       "0       Backgroud                    NaN\n",
       "1   General trash                 2782.0\n",
       "2           Paper                 9311.0\n",
       "3      Paper pack                  659.0\n",
       "4           Metal                  562.0\n",
       "5           Glass                  610.0\n",
       "6         Plastic                 3090.0\n",
       "7       Styrofoam                 1343.0\n",
       "8     Plastic bag                 7643.0\n",
       "9         Battery                   63.0\n",
       "10       Clothing                  177.0"
      ]
     },
     "execution_count": 18,
     "metadata": {},
     "output_type": "execute_result"
    }
   ],
   "source": [
    "sorted_df"
   ]
  },
  {
   "cell_type": "code",
   "execution_count": 19,
   "id": "1a47b2e6-9462-4afc-bf85-e423527be842",
   "metadata": {},
   "outputs": [
    {
     "name": "stdout",
     "output_type": "stream",
     "text": [
      "loading annotations into memory...\n",
      "Done (t=5.29s)\n",
      "creating index...\n",
      "index created!\n"
     ]
    }
   ],
   "source": [
    "coco = COCO(anns_file_path)\n",
    "img_id = coco.getImgIds(imgIds=5)\n",
    "img_info = coco.loadImgs(img_id)[0]"
   ]
  },
  {
   "cell_type": "code",
   "execution_count": 22,
   "id": "ff2d2bb6-f36a-43a1-9694-1021068061a2",
   "metadata": {},
   "outputs": [
    {
     "data": {
      "text/plain": [
       "[{'license': 0,\n",
       "  'url': None,\n",
       "  'file_name': 'batch_01_vt/0009.jpg',\n",
       "  'height': 512,\n",
       "  'width': 512,\n",
       "  'date_captured': None,\n",
       "  'id': 5},\n",
       " {'license': 0,\n",
       "  'url': None,\n",
       "  'file_name': 'batch_01_vt/0010.jpg',\n",
       "  'height': 512,\n",
       "  'width': 512,\n",
       "  'date_captured': None,\n",
       "  'id': 6}]"
      ]
     },
     "execution_count": 22,
     "metadata": {},
     "output_type": "execute_result"
    }
   ],
   "source": [
    "img_id = coco.getImgIds(imgIds=[5,6])\n",
    "img_info = coco.loadImgs(img_id)\n",
    "img_info"
   ]
  },
  {
   "cell_type": "code",
   "execution_count": 26,
   "id": "e8b6ee35-256f-4e1b-a117-96f0e3fe8fea",
   "metadata": {},
   "outputs": [
    {
     "name": "stdout",
     "output_type": "stream",
     "text": [
      "Counter({1: 834, 2: 353, 3: 244, 4: 198, 5: 152, 6: 146, 7: 141, 8: 110, 9: 96, 12: 91, 10: 84, 11: 83, 13: 68, 14: 64, 15: 63, 16: 61, 17: 52, 19: 49, 20: 40, 18: 36, 23: 30, 22: 29, 25: 26, 24: 26, 26: 25, 28: 21, 21: 19, 31: 16, 27: 12, 29: 12, 33: 10, 37: 9, 34: 9, 32: 8, 30: 8, 39: 6, 38: 4, 45: 3, 56: 3, 46: 3, 44: 3, 50: 2, 42: 2, 43: 2, 36: 2, 51: 2, 58: 2, 40: 2, 47: 1, 55: 1, 35: 1, 59: 1, 53: 1, 57: 1, 70: 1, 64: 1, 41: 1, 48: 1, 0: 1})\n"
     ]
    }
   ],
   "source": [
    "from collections import Counter\n",
    "\n",
    "num_anns_per_img = []\n",
    "for img in imgs:\n",
    "    num_anns = len(coco.getAnnIds(imgIds = img['id']))\n",
    "    num_anns_per_img.append(num_anns)\n",
    "# print(num_anns_per_img)\n",
    "counts = Counter(num_anns_per_img)\n",
    "print(counts)"
   ]
  },
  {
   "cell_type": "code",
   "execution_count": 35,
   "id": "fe6d93bc-cf17-4ece-a149-f2b423ca419d",
   "metadata": {},
   "outputs": [
    {
     "data": {
      "text/html": [
       "<div>\n",
       "<style scoped>\n",
       "    .dataframe tbody tr th:only-of-type {\n",
       "        vertical-align: middle;\n",
       "    }\n",
       "\n",
       "    .dataframe tbody tr th {\n",
       "        vertical-align: top;\n",
       "    }\n",
       "\n",
       "    .dataframe thead th {\n",
       "        text-align: right;\n",
       "    }\n",
       "</style>\n",
       "<table border=\"1\" class=\"dataframe\">\n",
       "  <thead>\n",
       "    <tr style=\"text-align: right;\">\n",
       "      <th></th>\n",
       "      <th>objects per img</th>\n",
       "      <th>Num</th>\n",
       "    </tr>\n",
       "  </thead>\n",
       "  <tbody>\n",
       "    <tr>\n",
       "      <th>58</th>\n",
       "      <td>0</td>\n",
       "      <td>1</td>\n",
       "    </tr>\n",
       "    <tr>\n",
       "      <th>2</th>\n",
       "      <td>1</td>\n",
       "      <td>834</td>\n",
       "    </tr>\n",
       "    <tr>\n",
       "      <th>3</th>\n",
       "      <td>2</td>\n",
       "      <td>353</td>\n",
       "    </tr>\n",
       "    <tr>\n",
       "      <th>9</th>\n",
       "      <td>3</td>\n",
       "      <td>244</td>\n",
       "    </tr>\n",
       "    <tr>\n",
       "      <th>12</th>\n",
       "      <td>4</td>\n",
       "      <td>198</td>\n",
       "    </tr>\n",
       "  </tbody>\n",
       "</table>\n",
       "</div>"
      ],
      "text/plain": [
       "    objects per img  Num\n",
       "58                0    1\n",
       "2                 1  834\n",
       "3                 2  353\n",
       "9                 3  244\n",
       "12                4  198"
      ]
     },
     "execution_count": 35,
     "metadata": {},
     "output_type": "execute_result"
    }
   ],
   "source": [
    "df2 = pd.DataFrame(list(counts.items()), columns=['objects per img', 'Num'])\n",
    "df2 = df2.sort_values('objects per img', 0, True)\n",
    "df2.head()"
   ]
  },
  {
   "cell_type": "code",
   "execution_count": 40,
   "id": "ac78dd7d-a995-4ef9-b4ff-98b417a85d8b",
   "metadata": {},
   "outputs": [
    {
     "data": {
      "image/png": "[encoded data removed]",
      "text/plain": [
       "<Figure size 1080x360 with 1 Axes>"
      ]
     },
     "metadata": {},
     "output_type": "display_data"
    }
   ],
   "source": [
    "f, ax = plt.subplots(figsize = (15,5))\n",
    "plt.title(\"segmentation num per img\")\n",
    "plot_1 = sns.barplot(x=\"objects per img\", y=\"Num\", data=df2, label=\"Total\", color=\"b\")"
   ]
  },
  {
   "cell_type": "code",
   "execution_count": 41,
   "id": "1e9cb49e-69b1-442b-8013-7a648e9509b1",
   "metadata": {},
   "outputs": [
    {
     "name": "stdout",
     "output_type": "stream",
     "text": [
      "261109.0 1.0\n"
     ]
    }
   ],
   "source": [
    "areas = []\n",
    "for ann in anns:\n",
    "    areas.append(ann['area'])\n",
    "max_area = max(areas)\n",
    "min_area = min(areas)\n",
    "\n",
    "print(max_area, min_area)"
   ]
  },
  {
   "cell_type": "code",
   "execution_count": 42,
   "id": "7239b3d2-4e5d-4cde-a5aa-35222a591c18",
   "metadata": {},
   "outputs": [
    {
     "name": "stdout",
     "output_type": "stream",
     "text": [
      "{'0~100': 528, '101~1000': 7418, '1001~10000': 10996, '10001~100000': 7169, '100001~': 129}\n"
     ]
    }
   ],
   "source": [
    "area_distribution = {'0~100':0,\n",
    "                    '101~1000':0,\n",
    "                    '1001~10000':0,\n",
    "                    '10001~100000':0,\n",
    "                    '100001~':0}\n",
    "for area in areas:\n",
    "    if area<=100:\n",
    "        area_distribution['0~100']+=1\n",
    "    elif area<=1000:\n",
    "        area_distribution['101~1000']+=1\n",
    "    elif area<=10000:\n",
    "        area_distribution['1001~10000']+=1\n",
    "    elif area<=100000:\n",
    "        area_distribution['10001~100000']+=1\n",
    "    else:\n",
    "        area_distribution['100001~']+=1\n",
    "print(area_distribution)"
   ]
  },
  {
   "cell_type": "code",
   "execution_count": 48,
   "id": "eba05513-4f26-4ad8-bba4-963dd0a88c5f",
   "metadata": {},
   "outputs": [
    {
     "data": {
      "text/html": [
       "<div>\n",
       "<style scoped>\n",
       "    .dataframe tbody tr th:only-of-type {\n",
       "        vertical-align: middle;\n",
       "    }\n",
       "\n",
       "    .dataframe tbody tr th {\n",
       "        vertical-align: top;\n",
       "    }\n",
       "\n",
       "    .dataframe thead th {\n",
       "        text-align: right;\n",
       "    }\n",
       "</style>\n",
       "<table border=\"1\" class=\"dataframe\">\n",
       "  <thead>\n",
       "    <tr style=\"text-align: right;\">\n",
       "      <th></th>\n",
       "      <th>area</th>\n",
       "      <th>Num</th>\n",
       "    </tr>\n",
       "  </thead>\n",
       "  <tbody>\n",
       "    <tr>\n",
       "      <th>0</th>\n",
       "      <td>0~100</td>\n",
       "      <td>528</td>\n",
       "    </tr>\n",
       "    <tr>\n",
       "      <th>1</th>\n",
       "      <td>101~1000</td>\n",
       "      <td>7418</td>\n",
       "    </tr>\n",
       "    <tr>\n",
       "      <th>2</th>\n",
       "      <td>1001~10000</td>\n",
       "      <td>10996</td>\n",
       "    </tr>\n",
       "    <tr>\n",
       "      <th>3</th>\n",
       "      <td>10001~100000</td>\n",
       "      <td>7169</td>\n",
       "    </tr>\n",
       "    <tr>\n",
       "      <th>4</th>\n",
       "      <td>100001~</td>\n",
       "      <td>129</td>\n",
       "    </tr>\n",
       "  </tbody>\n",
       "</table>\n",
       "</div>"
      ],
      "text/plain": [
       "           area    Num\n",
       "0         0~100    528\n",
       "1      101~1000   7418\n",
       "2    1001~10000  10996\n",
       "3  10001~100000   7169\n",
       "4       100001~    129"
      ]
     },
     "execution_count": 48,
     "metadata": {},
     "output_type": "execute_result"
    }
   ],
   "source": [
    "df3 = pd.DataFrame(list(area_distribution.items()), columns=['area', 'Num'])\n",
    "\n",
    "df3"
   ]
  },
  {
   "cell_type": "code",
   "execution_count": 49,
   "id": "b7da4746-dc38-4631-980b-6534167bf14a",
   "metadata": {},
   "outputs": [
    {
     "data": {
      "image/png": "[encoded data removed]",
      "text/plain": [
       "<Figure size 720x360 with 1 Axes>"
      ]
     },
     "metadata": {},
     "output_type": "display_data"
    }
   ],
   "source": [
    "f, ax = plt.subplots(figsize = (10,5))\n",
    "plt.title(\"area distribution\")\n",
    "plot_1 = sns.barplot(x=\"area\", y=\"Num\", data=df3, label=\"Total\", color=\"b\")"
   ]
  },
  {
   "cell_type": "code",
   "execution_count": 31,
   "id": "c67c1600-1ff6-47c4-98f0-96c94aa08b4a",
   "metadata": {},
   "outputs": [
    {
     "name": "stdout",
     "output_type": "stream",
     "text": [
      "Counter({0: 782, 7: 484, 6: 409, 5: 357, 2: 345, 3: 310, 1: 283, 4: 170, 9: 112, 8: 19, -1: 1})\n"
     ]
    }
   ],
   "source": [
    "classes = []\n",
    "for img in imgs:\n",
    "    ann_ids = coco.getAnnIds(img['id'])\n",
    "    ann_lst = coco.loadAnns(ann_ids)\n",
    "    min_cat = int(1e9)\n",
    "    for ann in ann_lst:\n",
    "        category = ann['category_id']\n",
    "        if cat_histogram[category-1] < min_cat:\n",
    "            min_cat = cat_histogram[category-1]\n",
    "            img_class = category-1\n",
    "    if min_cat == int(1e9):\n",
    "        img_class=-1\n",
    "    classes.append(img_class)\n",
    "len(classes)\n",
    "max(classes)\n",
    "print(Counter(classes))"
   ]
  },
  {
   "cell_type": "code",
   "execution_count": 70,
   "id": "597fa5bb-1834-4137-a5ce-67e5a5341b5b",
   "metadata": {},
   "outputs": [
    {
     "name": "stdout",
     "output_type": "stream",
     "text": [
      "write kfold_0_train.json\n",
      "write kfold_0_val.json\n",
      "write kfold_1_train.json\n",
      "write kfold_1_val.json\n",
      "write kfold_2_train.json\n",
      "write kfold_2_val.json\n",
      "write kfold_3_train.json\n",
      "write kfold_3_val.json\n",
      "write kfold_4_train.json\n",
      "write kfold_4_val.json\n"
     ]
    }
   ],
   "source": [
    "from sklearn.model_selection import StratifiedKFold\n",
    "stratifiedkfold = StratifiedKFold(n_splits=5,random_state=1234,shuffle=True)\n",
    "\n",
    "X=np.array([[img['id']] for img in imgs])\n",
    "classes = np.array(classes)\n",
    "\n",
    "for i, idx in enumerate(stratifiedkfold.split(X,classes)):\n",
    "    train_index, validate_index = idx\n",
    "    \n",
    "    train_json = f'kfold_{i}_train.json'\n",
    "    val_json = f'kfold_{i}_val.json'\n",
    "    \n",
    "    \n",
    "    # print(\"train index:\", train_index, \"validate index:\", validate_index)\n",
    "    X_train = X[train_index]\n",
    "    X_train = [x[0] for x in X_train]\n",
    "    class_train = classes[train_index]\n",
    "    \n",
    "    X_valid = X[validate_index]\n",
    "    X_valid = [x[0] for x in X_valid]\n",
    "    class_valid = classes[validate_index]\n",
    "    \n",
    "    train_images_id = coco.getImgIds(X_train)\n",
    "    train_images = coco.loadImgs(train_images_id)\n",
    "    \n",
    "    train_anns_id = coco.getAnnIds(train_images_id)\n",
    "    train_anns = coco.loadAnns(train_anns_id)\n",
    "    \n",
    "    val_images_id = coco.getImgIds(X_valid)\n",
    "    val_images = coco.loadImgs(val_images_id)\n",
    "    \n",
    "    val_anns_id = coco.getAnnIds(val_images_id)\n",
    "    val_anns = coco.loadAnns(val_anns_id)\n",
    "    \n",
    "    for i, train_image in enumerate(train_images):\n",
    "        origin_id = train_image['id']\n",
    "        train_image['id'] = i\n",
    "        for train_ann in train_anns:\n",
    "            if train_ann['image_id'] == origin_id:\n",
    "                train_ann['image_id'] = i\n",
    "    \n",
    "    for i, val_image in enumerate(val_images):\n",
    "        origin_id = val_image['id']\n",
    "        val_image['id'] = i\n",
    "        for val_ann in val_anns:\n",
    "            if val_ann['image_id'] == origin_id:\n",
    "                val_ann['image_id'] = i\n",
    "    # print(train_images)\n",
    "\n",
    "    # print('========')\n",
    "    # print(train_anns[0])\n",
    "    # print()\n",
    "    # print(class_train)\n",
    "    # print(i)\n",
    "    train_data = {\n",
    "        \"info\": dataset['info'],\n",
    "        \"licenses\": dataset['licenses'],\n",
    "        \"images\": train_images,\n",
    "        \"categories\":dataset['categories'],\n",
    "        \"annotations\": train_anns,\n",
    "    }\n",
    "    val_data = {\n",
    "        \"info\": dataset['info'],\n",
    "        \"licenses\": dataset['licenses'],\n",
    "        \"images\": val_images,\n",
    "        \"categories\":dataset['categories'],\n",
    "        \"annotations\": val_anns,\n",
    "    }\n",
    "    \n",
    "    # print(val_data['annotations'][0])\n",
    "    \n",
    "    print(f'write {train_json}')\n",
    "    with open(dataset_path + '/' + train_json, 'w') as train_writer:\n",
    "        json.dump(train_data, train_writer)\n",
    "    \n",
    "    print(f'write {val_json}')\n",
    "    with open(dataset_path + '/' + val_json, 'w') as val_writer:\n",
    "        json.dump(val_data, val_writer)"
   ]
  },
  {
   "cell_type": "code",
   "execution_count": null,
   "id": "dcf06e94-212f-4b75-a315-a2857d79ba0d",
   "metadata": {},
   "outputs": [],
   "source": []
  }
 ],
 "metadata": {
  "kernelspec": {
   "display_name": "segmentation",
   "language": "python",
   "name": "segmentation"
  },
  "language_info": {
   "codemirror_mode": {
    "name": "ipython",
    "version": 3
   },
   "file_extension": ".py",
   "mimetype": "text/x-python",
   "name": "python",
   "nbconvert_exporter": "python",
   "pygments_lexer": "ipython3",
   "version": "3.7.11"
  }
 },
 "nbformat": 4,
 "nbformat_minor": 5
}
