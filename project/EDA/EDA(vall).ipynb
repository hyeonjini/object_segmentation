{
 "cells": [
  {
   "cell_type": "markdown",
   "id": "3f29301c-a9e7-458a-92c9-090da8630202",
   "metadata": {},
   "source": [
    "# import Module"
   ]
  },
  {
   "cell_type": "code",
   "execution_count": 1,
   "id": "a1cf9cb2-25a8-4f70-872f-3a2bb79a6764",
   "metadata": {},
   "outputs": [],
   "source": [
    "import os\n",
    "import pandas as pd\n",
    "import matplotlib.pyplot as plt\n",
    "%matplotlib inline\n",
    "import json\n",
    "from pycocotools.coco import COCO\n",
    "from collections import Counter"
   ]
  },
  {
   "cell_type": "markdown",
   "id": "7ce918ba-39e1-44fa-a959-708d772adb97",
   "metadata": {},
   "source": [
    "# Json File Load"
   ]
  },
  {
   "cell_type": "code",
   "execution_count": 2,
   "id": "66bc1d2f-ae80-4810-b4b3-708ec3e27189",
   "metadata": {},
   "outputs": [],
   "source": [
    "root = 'input/data'\n",
    "json_path = \"val.json\""
   ]
  },
  {
   "cell_type": "code",
   "execution_count": 3,
   "id": "54ab857a-1848-4aa6-93d5-588b082f964d",
   "metadata": {},
   "outputs": [],
   "source": [
    "json_file = None\n",
    "with open(os.path.join(root, json_path), 'r') as f:\n",
    "    json_file = json.load(f)"
   ]
  },
  {
   "cell_type": "code",
   "execution_count": 4,
   "id": "2d340271-976f-4b31-be83-fe8989b4c455",
   "metadata": {},
   "outputs": [],
   "source": [
    "annotations = json_file[\"annotations\"]\n",
    "images = json_file[\"images\"]\n",
    "categories = json_file[\"categories\"]"
   ]
  },
  {
   "cell_type": "markdown",
   "id": "dcbd26bd-0e18-41bb-9546-ccf711f8d53f",
   "metadata": {},
   "source": [
    "# Categories 종류"
   ]
  },
  {
   "cell_type": "code",
   "execution_count": 5,
   "id": "eaec0ff8-40ad-4ec2-88c8-7e815d7412f9",
   "metadata": {},
   "outputs": [
    {
     "data": {
      "text/html": [
       "<div>\n",
       "<style scoped>\n",
       "    .dataframe tbody tr th:only-of-type {\n",
       "        vertical-align: middle;\n",
       "    }\n",
       "\n",
       "    .dataframe tbody tr th {\n",
       "        vertical-align: top;\n",
       "    }\n",
       "\n",
       "    .dataframe thead th {\n",
       "        text-align: right;\n",
       "    }\n",
       "</style>\n",
       "<table border=\"1\" class=\"dataframe\">\n",
       "  <thead>\n",
       "    <tr style=\"text-align: right;\">\n",
       "      <th></th>\n",
       "      <th>id</th>\n",
       "      <th>name</th>\n",
       "      <th>supercategory</th>\n",
       "    </tr>\n",
       "  </thead>\n",
       "  <tbody>\n",
       "    <tr>\n",
       "      <th>0</th>\n",
       "      <td>1</td>\n",
       "      <td>General trash</td>\n",
       "      <td>General trash</td>\n",
       "    </tr>\n",
       "    <tr>\n",
       "      <th>1</th>\n",
       "      <td>2</td>\n",
       "      <td>Paper</td>\n",
       "      <td>Paper</td>\n",
       "    </tr>\n",
       "    <tr>\n",
       "      <th>2</th>\n",
       "      <td>3</td>\n",
       "      <td>Paper pack</td>\n",
       "      <td>Paper pack</td>\n",
       "    </tr>\n",
       "    <tr>\n",
       "      <th>3</th>\n",
       "      <td>4</td>\n",
       "      <td>Metal</td>\n",
       "      <td>Metal</td>\n",
       "    </tr>\n",
       "    <tr>\n",
       "      <th>4</th>\n",
       "      <td>5</td>\n",
       "      <td>Glass</td>\n",
       "      <td>Glass</td>\n",
       "    </tr>\n",
       "    <tr>\n",
       "      <th>5</th>\n",
       "      <td>6</td>\n",
       "      <td>Plastic</td>\n",
       "      <td>Plastic</td>\n",
       "    </tr>\n",
       "    <tr>\n",
       "      <th>6</th>\n",
       "      <td>7</td>\n",
       "      <td>Styrofoam</td>\n",
       "      <td>Styrofoam</td>\n",
       "    </tr>\n",
       "    <tr>\n",
       "      <th>7</th>\n",
       "      <td>8</td>\n",
       "      <td>Plastic bag</td>\n",
       "      <td>Plastic bag</td>\n",
       "    </tr>\n",
       "    <tr>\n",
       "      <th>8</th>\n",
       "      <td>9</td>\n",
       "      <td>Battery</td>\n",
       "      <td>Battery</td>\n",
       "    </tr>\n",
       "    <tr>\n",
       "      <th>9</th>\n",
       "      <td>10</td>\n",
       "      <td>Clothing</td>\n",
       "      <td>Clothing</td>\n",
       "    </tr>\n",
       "  </tbody>\n",
       "</table>\n",
       "</div>"
      ],
      "text/plain": [
       "   id           name  supercategory\n",
       "0   1  General trash  General trash\n",
       "1   2          Paper          Paper\n",
       "2   3     Paper pack     Paper pack\n",
       "3   4          Metal          Metal\n",
       "4   5          Glass          Glass\n",
       "5   6        Plastic        Plastic\n",
       "6   7      Styrofoam      Styrofoam\n",
       "7   8    Plastic bag    Plastic bag\n",
       "8   9        Battery        Battery\n",
       "9  10       Clothing       Clothing"
      ]
     },
     "execution_count": 5,
     "metadata": {},
     "output_type": "execute_result"
    }
   ],
   "source": [
    "categories = pd.DataFrame(categories)\n",
    "categories"
   ]
  },
  {
   "cell_type": "markdown",
   "id": "3a01d900-f6fd-41e2-ae69-29ef77cc5f4f",
   "metadata": {},
   "source": [
    "# 클래스별 데이터 개수"
   ]
  },
  {
   "cell_type": "code",
   "execution_count": 6,
   "id": "a69b2d9a-57e4-4d39-8f27-67789c749da8",
   "metadata": {},
   "outputs": [],
   "source": [
    "categories = json_file[\"categories\"]"
   ]
  },
  {
   "cell_type": "code",
   "execution_count": 7,
   "id": "e400b3ae-e638-4768-9063-cf8c8865cf95",
   "metadata": {},
   "outputs": [
    {
     "data": {
      "image/png": "[encoded data removed]",
      "text/plain": [
       "<Figure size 864x576 with 1 Axes>"
      ]
     },
     "metadata": {
      "needs_background": "light"
     },
     "output_type": "display_data"
    }
   ],
   "source": [
    "def id_to_name(c_id):\n",
    "    # print(c_id)\n",
    "    return categories[c_id-1]['name']\n",
    "\n",
    "ids = [id_to_name(ann['category_id']) for ann in annotations]\n",
    "counts = Counter(ids)\n",
    "\n",
    "plt.figure(figsize=(12, 8))\n",
    "plt.bar(counts.keys(), counts.values())\n",
    "plt.show()"
   ]
  },
  {
   "cell_type": "markdown",
   "id": "2dc703cd-c7ca-4a54-aa70-9393428945f2",
   "metadata": {},
   "source": [
    "- Clothing, Battery 는 데이터가 적은 만큼 실험단계에서 학습도 거의 이루어지지 않음\n",
    "- 부족한 데이터셋 Oversampling 방법 고안\n",
    "- Augmentation을 적용해 해결\n",
    "- 데이터가 많은것은 학습이 잘 이루어짐"
   ]
  },
  {
   "cell_type": "markdown",
   "id": "cbe67c29-2a27-41a6-b491-0f6b1c5f3db3",
   "metadata": {},
   "source": [
    "# 이미지 한장에서 등장하는 객체 수"
   ]
  },
  {
   "cell_type": "code",
   "execution_count": 8,
   "id": "086bc320-eeb1-4f2e-9d4b-4097aeffce1e",
   "metadata": {},
   "outputs": [
    {
     "name": "stdout",
     "output_type": "stream",
     "text": [
      "loading annotations into memory...\n",
      "Done (t=1.06s)\n",
      "creating index...\n",
      "index created!\n"
     ]
    },
    {
     "data": {
      "image/png": "[encoded data removed]",
      "text/plain": [
       "<Figure size 864x576 with 1 Axes>"
      ]
     },
     "metadata": {
      "needs_background": "light"
     },
     "output_type": "display_data"
    }
   ],
   "source": [
    "coco_form = COCO(os.path.join(root, json_path))\n",
    "\n",
    "def id_to_objnum(ann):\n",
    "    return len(coco_form.getAnnIds(imgIds = ann['id']))\n",
    "\n",
    "obj_num = [id_to_objnum(ann) for ann in images]\n",
    "counts = Counter(obj_num)\n",
    "\n",
    "plt.figure(figsize=(12, 8))\n",
    "plt.bar(counts.keys(), counts.values(), align='center')\n",
    "plt.xlabel('number of object')\n",
    "plt.ylabel('image dataset')\n",
    "plt.show()"
   ]
  },
  {
   "cell_type": "code",
   "execution_count": null,
   "id": "d5c331b5-460e-4a3b-bd0e-a6b46355bb3c",
   "metadata": {},
   "outputs": [],
   "source": []
  }
 ],
 "metadata": {
  "kernelspec": {
   "display_name": "segmentation",
   "language": "python",
   "name": "segmentation"
  },
  "language_info": {
   "codemirror_mode": {
    "name": "ipython",
    "version": 3
   },
   "file_extension": ".py",
   "mimetype": "text/x-python",
   "name": "python",
   "nbconvert_exporter": "python",
   "pygments_lexer": "ipython3",
   "version": "3.7.11"
  }
 },
 "nbformat": 4,
 "nbformat_minor": 5
}
