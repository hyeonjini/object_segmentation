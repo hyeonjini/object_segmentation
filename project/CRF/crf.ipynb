{
 "cells": [
  {
   "cell_type": "code",
   "execution_count": 1,
   "id": "60e35ec0-1d24-4862-95fa-704090a91cda",
   "metadata": {},
   "outputs": [],
   "source": [
    "import numpy as np\n",
    "import pydensecrf.densecrf as dcrf\n",
    "\n",
    "d = dcrf.DenseCRF2D(256, 256, 11)"
   ]
  },
  {
   "cell_type": "code",
   "execution_count": null,
   "id": "d01a8d10-6229-4fbc-a385-642dd035d9bb",
   "metadata": {},
   "outputs": [],
   "source": [
    "def dense_crf(img, output_probs):\n",
    "    MAX_ITER = 50\n",
    "    POS_W = 3\n",
    "    POS_XY_STD = 3\n",
    "    Bi_W = 4\n",
    "    Bi_XY_STD = 49\n",
    "    Bi_RGB_STD = 5\n",
    "\n",
    "    c = output_probs.shape[0]\n",
    "    h = output_probs.shape[1]\n",
    "    w = output_probs.shape[2]\n",
    "\n",
    "    U = utils.unary_from_softmax(output_probs)\n",
    "    U = np.ascontiguousarray(U)\n",
    "\n",
    "    img = np.ascontiguousarray(img)\n",
    "\n",
    "    d = dcrf.DenseCRF2D(w, h, c)\n",
    "    d.setUnaryEnergy(U)\n",
    "    d.addPairwiseGaussian(sxy=POS_XY_STD, compat=POS_W)\n",
    "    d.addPairwiseBilateral(sxy=Bi_XY_STD, srgb=Bi_RGB_STD, rgbim=img, compat=Bi_W)\n",
    "\n",
    "    Q = d.inference(MAX_ITER)\n",
    "    Q = np.array(Q).reshape((c, h, w))\n",
    "    return Q"
   ]
  }
 ],
 "metadata": {
  "kernelspec": {
   "display_name": "segmentation",
   "language": "python",
   "name": "segmentation"
  },
  "language_info": {
   "codemirror_mode": {
    "name": "ipython",
    "version": 3
   },
   "file_extension": ".py",
   "mimetype": "text/x-python",
   "name": "python",
   "nbconvert_exporter": "python",
   "pygments_lexer": "ipython3",
   "version": "3.7.11"
  }
 },
 "nbformat": 4,
 "nbformat_minor": 5
}
